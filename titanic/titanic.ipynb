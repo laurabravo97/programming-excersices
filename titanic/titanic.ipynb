{
 "cells": [
  {
   "cell_type": "markdown",
   "metadata": {},
   "source": [
    "# Women and children first?"
   ]
  },
  {
   "cell_type": "markdown",
   "metadata": {},
   "source": [
    "## Preliminaries"
   ]
  },
  {
   "cell_type": "code",
   "execution_count": 1,
   "metadata": {},
   "outputs": [
    {
     "name": "stdout",
     "output_type": "stream",
     "text": [
      "=====================================================================\n",
      "Assignment: titanic\n",
      "OK, version v1.14.15\n",
      "=====================================================================\n",
      "\n"
     ]
    }
   ],
   "source": [
    "# Run this cell to start.\n",
    "import numpy as np\n",
    "import pandas as pd\n",
    "\n",
    "%matplotlib inline\n",
    "import matplotlib.pyplot as plt\n",
    "plt.style.use('fivethirtyeight')\n",
    "\n",
    "# Load the OKpy test library and tests.\n",
    "from client.api.notebook import Notebook\n",
    "ok = Notebook('titanic.ok')"
   ]
  },
  {
   "cell_type": "markdown",
   "metadata": {},
   "source": [
    "The tests in this notebook usually do not test if you have the *right* answer,\n",
    "but only if you have the *right sort* of answer.  *Be careful* -- the tests\n",
    "could pass, but your answer could still be wrong."
   ]
  },
  {
   "cell_type": "markdown",
   "metadata": {},
   "source": [
    "## Background\n",
    "\n",
    "We are going to look at the details of who was lost, and who survived, in the sinking of the RMS Titanic.\n",
    "\n",
    "We first read the dataset containing information about the passengers and crew\n",
    "who were on the RMS Titanic when it sank.\n",
    "\n",
    "The data file is `titanic_stlearn.csv`.\n",
    "\n",
    "See the [Titanic dataset page](https://github.com/matthew-brett/datasets/tree/master/titanic) for more detail.\n",
    "\n",
    "You might also want to look at [Encylopedia\n",
    "Titanica](https://www.encyclopedia-titanica.org/titanic-statistics.html) for\n",
    "more background."
   ]
  },
  {
   "cell_type": "code",
   "execution_count": 2,
   "metadata": {},
   "outputs": [
    {
     "data": {
      "text/html": [
       "<div>\n",
       "<style scoped>\n",
       "    .dataframe tbody tr th:only-of-type {\n",
       "        vertical-align: middle;\n",
       "    }\n",
       "\n",
       "    .dataframe tbody tr th {\n",
       "        vertical-align: top;\n",
       "    }\n",
       "\n",
       "    .dataframe thead th {\n",
       "        text-align: right;\n",
       "    }\n",
       "</style>\n",
       "<table border=\"1\" class=\"dataframe\">\n",
       "  <thead>\n",
       "    <tr style=\"text-align: right;\">\n",
       "      <th></th>\n",
       "      <th>name</th>\n",
       "      <th>gender</th>\n",
       "      <th>age</th>\n",
       "      <th>class</th>\n",
       "      <th>embarked</th>\n",
       "      <th>country</th>\n",
       "      <th>ticketno</th>\n",
       "      <th>fare</th>\n",
       "      <th>sibsp</th>\n",
       "      <th>parch</th>\n",
       "      <th>survived</th>\n",
       "    </tr>\n",
       "  </thead>\n",
       "  <tbody>\n",
       "    <tr>\n",
       "      <td>0</td>\n",
       "      <td>Abbing, Mr. Anthony</td>\n",
       "      <td>male</td>\n",
       "      <td>42.0</td>\n",
       "      <td>3rd</td>\n",
       "      <td>Southampton</td>\n",
       "      <td>United States</td>\n",
       "      <td>5547.0</td>\n",
       "      <td>7.11</td>\n",
       "      <td>0.0</td>\n",
       "      <td>0.0</td>\n",
       "      <td>no</td>\n",
       "    </tr>\n",
       "    <tr>\n",
       "      <td>1</td>\n",
       "      <td>Abbott, Mr. Eugene Joseph</td>\n",
       "      <td>male</td>\n",
       "      <td>13.0</td>\n",
       "      <td>3rd</td>\n",
       "      <td>Southampton</td>\n",
       "      <td>United States</td>\n",
       "      <td>2673.0</td>\n",
       "      <td>20.05</td>\n",
       "      <td>0.0</td>\n",
       "      <td>2.0</td>\n",
       "      <td>no</td>\n",
       "    </tr>\n",
       "    <tr>\n",
       "      <td>2</td>\n",
       "      <td>Abbott, Mr. Rossmore Edward</td>\n",
       "      <td>male</td>\n",
       "      <td>16.0</td>\n",
       "      <td>3rd</td>\n",
       "      <td>Southampton</td>\n",
       "      <td>United States</td>\n",
       "      <td>2673.0</td>\n",
       "      <td>20.05</td>\n",
       "      <td>1.0</td>\n",
       "      <td>1.0</td>\n",
       "      <td>no</td>\n",
       "    </tr>\n",
       "    <tr>\n",
       "      <td>3</td>\n",
       "      <td>Abbott, Mrs. Rhoda Mary 'Rosa'</td>\n",
       "      <td>female</td>\n",
       "      <td>39.0</td>\n",
       "      <td>3rd</td>\n",
       "      <td>Southampton</td>\n",
       "      <td>England</td>\n",
       "      <td>2673.0</td>\n",
       "      <td>20.05</td>\n",
       "      <td>1.0</td>\n",
       "      <td>1.0</td>\n",
       "      <td>yes</td>\n",
       "    </tr>\n",
       "    <tr>\n",
       "      <td>4</td>\n",
       "      <td>Abelseth, Miss. Karen Marie</td>\n",
       "      <td>female</td>\n",
       "      <td>16.0</td>\n",
       "      <td>3rd</td>\n",
       "      <td>Southampton</td>\n",
       "      <td>Norway</td>\n",
       "      <td>348125.0</td>\n",
       "      <td>7.13</td>\n",
       "      <td>0.0</td>\n",
       "      <td>0.0</td>\n",
       "      <td>yes</td>\n",
       "    </tr>\n",
       "  </tbody>\n",
       "</table>\n",
       "</div>"
      ],
      "text/plain": [
       "                             name  gender   age class     embarked  \\\n",
       "0             Abbing, Mr. Anthony    male  42.0   3rd  Southampton   \n",
       "1       Abbott, Mr. Eugene Joseph    male  13.0   3rd  Southampton   \n",
       "2     Abbott, Mr. Rossmore Edward    male  16.0   3rd  Southampton   \n",
       "3  Abbott, Mrs. Rhoda Mary 'Rosa'  female  39.0   3rd  Southampton   \n",
       "4     Abelseth, Miss. Karen Marie  female  16.0   3rd  Southampton   \n",
       "\n",
       "         country  ticketno   fare  sibsp  parch survived  \n",
       "0  United States    5547.0   7.11    0.0    0.0       no  \n",
       "1  United States    2673.0  20.05    0.0    2.0       no  \n",
       "2  United States    2673.0  20.05    1.0    1.0       no  \n",
       "3        England    2673.0  20.05    1.0    1.0      yes  \n",
       "4         Norway  348125.0   7.13    0.0    0.0      yes  "
      ]
     },
     "execution_count": 2,
     "metadata": {},
     "output_type": "execute_result"
    }
   ],
   "source": [
    "titanic = pd.read_csv('titanic_stlearn.csv')\n",
    "titanic.head()"
   ]
  },
  {
   "cell_type": "code",
   "execution_count": 3,
   "metadata": {},
   "outputs": [
    {
     "name": "stdout",
     "output_type": "stream",
     "text": [
      "~~~~~~~~~~~~~~~~~~~~~~~~~~~~~~~~~~~~~~~~~~~~~~~~~~~~~~~~~~~~~~~~~~~~~\n",
      "Running tests\n",
      "\n",
      "---------------------------------------------------------------------\n",
      "Test summary\n",
      "    Passed: 3\n",
      "    Failed: 0\n",
      "[ooooooooook] 100.0% passed\n",
      "\n"
     ]
    }
   ],
   "source": [
    "# Test you are on the right track.\n",
    "_ = ok.grade('q_01_titanic')"
   ]
  },
  {
   "cell_type": "markdown",
   "metadata": {},
   "source": [
    "This data file contains the following columns:\n",
    "\n",
    "* `name`: a string with the name of the passenger.\n",
    "* `gender`: a string with one of two labels: \"male\" and \"female\".\n",
    "* `age`: a numeric value with the person's age on the day of the sinking. The\n",
    "  age of babies (under 12 months) is given as a fraction of one year, rounded\n",
    "  to the nearest month (2 months = 2/12 = 0.1667).\n",
    "* `class`: a string specifying the class for passengers: \"1st\", \"2nd\", \"3rd\";\n",
    "  or the type of service aboard for crew members. See below for discussion of\n",
    "  passengers, crew and the crew service types.\n",
    "* `embarked`: a string with the person's port of embarkation, one of:\n",
    "  \"Belfast\", \"Cherbourg\", \"Queenstown\" or \"Southampton\".\n",
    "* `country`: a string with the person's home country.\n",
    "* `ticketno`: a numeric value specifying the persons ticket number (NA for crew\n",
    "  members, also see below).\n",
    "* `fare`: a numeric value with the ticket price (NA for crew members, musicians\n",
    "  and employees of the shipyard company, also see below).\n",
    "* `sibsp`: an integer specifying the number of siblings/spouses aboard; adopted\n",
    "  from Vanderbilt data set (see below).  Always NA for crew, sometimes NA for\n",
    "  passengers.\n",
    "* `parch`: an ordered factor specifying the number of parents/children aboard;\n",
    "  adopted from Vanderbilt data set (see below).  Always NA for crew, sometimes\n",
    "  NA for passengers.\n",
    "* `survived`: a string with one of two labels: \"no\" and \"yes\". It specifies\n",
    "  whether the person survived the sinking."
   ]
  },
  {
   "cell_type": "markdown",
   "metadata": {},
   "source": [
    "## Women and children first\n",
    "\n",
    "The RMS Titanic sank on 15th April 1912. A standard rule of evacuation at the\n",
    "time was [Women and Children\n",
    "First](https://en.wikipedia.org/wiki/Women_and_children_first).  Wikipedia\n",
    "claims that the original suggestion for this rule was from a French passenger\n",
    "of a ship in danger, in 1840.\n",
    "\n",
    "How strictly was that rule applied in the evacuation of the Titanic?\n",
    "\n",
    "Use `pd.crosstab` to create a new data frame that is a cross-tabulation of the\n",
    "values in the `gender` column, and the values in the `survived` column.  Store\n",
    "this cross-tabulation in the variable `gender_by_survived`.  It should contain\n",
    "four counts, one for `female` passengers who were lost (`no`), one for `female`\n",
    "and `yes` and so on."
   ]
  },
  {
   "cell_type": "code",
   "execution_count": 4,
   "metadata": {},
   "outputs": [
    {
     "data": {
      "text/html": [
       "<div>\n",
       "<style scoped>\n",
       "    .dataframe tbody tr th:only-of-type {\n",
       "        vertical-align: middle;\n",
       "    }\n",
       "\n",
       "    .dataframe tbody tr th {\n",
       "        vertical-align: top;\n",
       "    }\n",
       "\n",
       "    .dataframe thead th {\n",
       "        text-align: right;\n",
       "    }\n",
       "</style>\n",
       "<table border=\"1\" class=\"dataframe\">\n",
       "  <thead>\n",
       "    <tr style=\"text-align: right;\">\n",
       "      <th>survived</th>\n",
       "      <th>no</th>\n",
       "      <th>yes</th>\n",
       "    </tr>\n",
       "    <tr>\n",
       "      <th>gender</th>\n",
       "      <th></th>\n",
       "      <th></th>\n",
       "    </tr>\n",
       "  </thead>\n",
       "  <tbody>\n",
       "    <tr>\n",
       "      <td>female</td>\n",
       "      <td>130</td>\n",
       "      <td>359</td>\n",
       "    </tr>\n",
       "    <tr>\n",
       "      <td>male</td>\n",
       "      <td>1366</td>\n",
       "      <td>352</td>\n",
       "    </tr>\n",
       "  </tbody>\n",
       "</table>\n",
       "</div>"
      ],
      "text/plain": [
       "survived    no  yes\n",
       "gender             \n",
       "female     130  359\n",
       "male      1366  352"
      ]
     },
     "execution_count": 4,
     "metadata": {},
     "output_type": "execute_result"
    }
   ],
   "source": [
    "gender_by_survived = pd.crosstab(titanic['gender'], titanic['survived'])\n",
    "# Show the table in the notebook\n",
    "gender_by_survived"
   ]
  },
  {
   "cell_type": "code",
   "execution_count": 5,
   "metadata": {},
   "outputs": [
    {
     "name": "stdout",
     "output_type": "stream",
     "text": [
      "~~~~~~~~~~~~~~~~~~~~~~~~~~~~~~~~~~~~~~~~~~~~~~~~~~~~~~~~~~~~~~~~~~~~~\n",
      "Running tests\n",
      "\n",
      "---------------------------------------------------------------------\n",
      "Test summary\n",
      "    Passed: 5\n",
      "    Failed: 0\n",
      "[ooooooooook] 100.0% passed\n",
      "\n"
     ]
    }
   ],
   "source": [
    "# Check you are on the right track.\n",
    "_ = ok.grade('q_02_gender_by_survived')"
   ]
  },
  {
   "cell_type": "markdown",
   "metadata": {},
   "source": [
    "These counts are useful, but even more useful would be *proportions* of women\n",
    "who were lost and who survived.  Investigate the keyword arguments to\n",
    "`pd.crosstab` to create a new data frame `gender_by_survived_p` that shows the\n",
    "proportions of men and women who survived.  For example, there should be a\n",
    "value for `female` and `no` that is the number of `female` passengers who were\n",
    "lost, divided by the total number of `female` passengers.  That is, you want\n",
    "the proportions across the *rows*."
   ]
  },
  {
   "cell_type": "code",
   "execution_count": 6,
   "metadata": {},
   "outputs": [
    {
     "data": {
      "text/html": [
       "<div>\n",
       "<style scoped>\n",
       "    .dataframe tbody tr th:only-of-type {\n",
       "        vertical-align: middle;\n",
       "    }\n",
       "\n",
       "    .dataframe tbody tr th {\n",
       "        vertical-align: top;\n",
       "    }\n",
       "\n",
       "    .dataframe thead th {\n",
       "        text-align: right;\n",
       "    }\n",
       "</style>\n",
       "<table border=\"1\" class=\"dataframe\">\n",
       "  <thead>\n",
       "    <tr style=\"text-align: right;\">\n",
       "      <th>survived</th>\n",
       "      <th>no</th>\n",
       "      <th>yes</th>\n",
       "    </tr>\n",
       "    <tr>\n",
       "      <th>gender</th>\n",
       "      <th></th>\n",
       "      <th></th>\n",
       "    </tr>\n",
       "  </thead>\n",
       "  <tbody>\n",
       "    <tr>\n",
       "      <td>female</td>\n",
       "      <td>0.265849</td>\n",
       "      <td>0.734151</td>\n",
       "    </tr>\n",
       "    <tr>\n",
       "      <td>male</td>\n",
       "      <td>0.795111</td>\n",
       "      <td>0.204889</td>\n",
       "    </tr>\n",
       "  </tbody>\n",
       "</table>\n",
       "</div>"
      ],
      "text/plain": [
       "survived        no       yes\n",
       "gender                      \n",
       "female    0.265849  0.734151\n",
       "male      0.795111  0.204889"
      ]
     },
     "execution_count": 6,
     "metadata": {},
     "output_type": "execute_result"
    }
   ],
   "source": [
    "gender_by_survived_p = pd.crosstab(titanic['gender'], titanic['survived'], normalize = 'index')\n",
    "# Show the table in the notebook\n",
    "gender_by_survived_p"
   ]
  },
  {
   "cell_type": "code",
   "execution_count": 7,
   "metadata": {},
   "outputs": [
    {
     "name": "stdout",
     "output_type": "stream",
     "text": [
      "~~~~~~~~~~~~~~~~~~~~~~~~~~~~~~~~~~~~~~~~~~~~~~~~~~~~~~~~~~~~~~~~~~~~~\n",
      "Running tests\n",
      "\n",
      "---------------------------------------------------------------------\n",
      "Test summary\n",
      "    Passed: 5\n",
      "    Failed: 0\n",
      "[ooooooooook] 100.0% passed\n",
      "\n"
     ]
    }
   ],
   "source": [
    "# Check you are on the right track.\n",
    "_ = ok.grade('q_03_gender_by_survived_p')"
   ]
  },
  {
   "cell_type": "markdown",
   "metadata": {},
   "source": [
    "This should look like pretty convincing evidence that the crew largely followed\n",
    "the \"women\" part of the \"Women and children first\" rule.  Next we investigate\n",
    "the \"children\" part.\n",
    "\n",
    "We need a Series that allows us to categorize the passenger as a `male`, a\n",
    "`female` or a `child`.\n",
    "\n",
    "First we make a new series `mwc` (Man Woman Child) that has a copy of the data\n",
    "from the `gender` column."
   ]
  },
  {
   "cell_type": "code",
   "execution_count": 8,
   "metadata": {},
   "outputs": [
    {
     "data": {
      "text/plain": [
       "0      male\n",
       "1      male\n",
       "2      male\n",
       "3    female\n",
       "4    female\n",
       "Name: gender, dtype: object"
      ]
     },
     "execution_count": 8,
     "metadata": {},
     "output_type": "execute_result"
    }
   ],
   "source": [
    "# Run this cell.\n",
    "mwc = titanic['gender'].copy()\n",
    "mwc.head()"
   ]
  },
  {
   "cell_type": "markdown",
   "metadata": {},
   "source": [
    "Now your turn.  Make a Boolean series named `is_child` that has True for rows\n",
    "where the passenger's `age` was less than 15, and False otherwise.  Use\n",
    "`is_child` to set the corresponding elements in `mwc` to have the value\n",
    "`child`.\n",
    "\n",
    "After you have done this, the `mwc` Series should have a `child` value for rows\n",
    "in `titanic` where the person's age was less than 15, otherwise have a `male`\n",
    "value for male adult passengers or a `female` value for female adult\n",
    "passengers."
   ]
  },
  {
   "cell_type": "code",
   "execution_count": 9,
   "metadata": {},
   "outputs": [
    {
     "data": {
      "text/plain": [
       "male      1651\n",
       "female     432\n",
       "child      124\n",
       "Name: gender, dtype: int64"
      ]
     },
     "execution_count": 9,
     "metadata": {},
     "output_type": "execute_result"
    }
   ],
   "source": [
    "#- Your code here.\n",
    "is_child = titanic['age'] < 15\n",
    "mwc[is_child] = 'child'\n",
    "\n",
    "# Show the unique values and counts for the \"mwc\" Series.\n",
    "mwc.value_counts()"
   ]
  },
  {
   "cell_type": "code",
   "execution_count": 10,
   "metadata": {},
   "outputs": [
    {
     "name": "stdout",
     "output_type": "stream",
     "text": [
      "~~~~~~~~~~~~~~~~~~~~~~~~~~~~~~~~~~~~~~~~~~~~~~~~~~~~~~~~~~~~~~~~~~~~~\n",
      "Running tests\n",
      "\n",
      "---------------------------------------------------------------------\n",
      "Test summary\n",
      "    Passed: 5\n",
      "    Failed: 0\n",
      "[ooooooooook] 100.0% passed\n",
      "\n"
     ]
    }
   ],
   "source": [
    "_ = ok.grade('q_04_mwc')"
   ]
  },
  {
   "cell_type": "markdown",
   "metadata": {},
   "source": [
    "Create a cross-tabulation data frame called `mwc_by_survived_p` that has the\n",
    "proportions of children, females and males that were saved and lost.  The\n",
    "*proportion* of children saved is the number of children saved divided by the\n",
    "total number of children.  Your `mwc_by_survived_p` data frame should have, for\n",
    "example, a row corresponding to `child` , that has two values: the proportion\n",
    "of children that were lost and the proportion of children who were saved."
   ]
  },
  {
   "cell_type": "code",
   "execution_count": 11,
   "metadata": {},
   "outputs": [
    {
     "data": {
      "text/html": [
       "<div>\n",
       "<style scoped>\n",
       "    .dataframe tbody tr th:only-of-type {\n",
       "        vertical-align: middle;\n",
       "    }\n",
       "\n",
       "    .dataframe tbody tr th {\n",
       "        vertical-align: top;\n",
       "    }\n",
       "\n",
       "    .dataframe thead th {\n",
       "        text-align: right;\n",
       "    }\n",
       "</style>\n",
       "<table border=\"1\" class=\"dataframe\">\n",
       "  <thead>\n",
       "    <tr style=\"text-align: right;\">\n",
       "      <th>survived</th>\n",
       "      <th>no</th>\n",
       "      <th>yes</th>\n",
       "    </tr>\n",
       "    <tr>\n",
       "      <th>mwc</th>\n",
       "      <th></th>\n",
       "      <th></th>\n",
       "    </tr>\n",
       "  </thead>\n",
       "  <tbody>\n",
       "    <tr>\n",
       "      <td>child</td>\n",
       "      <td>0.475806</td>\n",
       "      <td>0.524194</td>\n",
       "    </tr>\n",
       "    <tr>\n",
       "      <td>female</td>\n",
       "      <td>0.243056</td>\n",
       "      <td>0.756944</td>\n",
       "    </tr>\n",
       "    <tr>\n",
       "      <td>male</td>\n",
       "      <td>0.806784</td>\n",
       "      <td>0.193216</td>\n",
       "    </tr>\n",
       "  </tbody>\n",
       "</table>\n",
       "</div>"
      ],
      "text/plain": [
       "survived        no       yes\n",
       "mwc                         \n",
       "child     0.475806  0.524194\n",
       "female    0.243056  0.756944\n",
       "male      0.806784  0.193216"
      ]
     },
     "execution_count": 11,
     "metadata": {},
     "output_type": "execute_result"
    }
   ],
   "source": [
    "mwc_by_survived_p = pd.crosstab(mwc, titanic['survived'], normalize = 'index', rownames=['mwc'])\n",
    "mwc_by_survived_p"
   ]
  },
  {
   "cell_type": "code",
   "execution_count": 12,
   "metadata": {},
   "outputs": [
    {
     "name": "stdout",
     "output_type": "stream",
     "text": [
      "~~~~~~~~~~~~~~~~~~~~~~~~~~~~~~~~~~~~~~~~~~~~~~~~~~~~~~~~~~~~~~~~~~~~~\n",
      "Running tests\n",
      "\n",
      "---------------------------------------------------------------------\n",
      "Test summary\n",
      "    Passed: 5\n",
      "    Failed: 0\n",
      "[ooooooooook] 100.0% passed\n",
      "\n"
     ]
    }
   ],
   "source": [
    "_ = ok.grade('q_05_mwc_p')"
   ]
  },
  {
   "cell_type": "markdown",
   "metadata": {},
   "source": [
    "## Being at the front of the plane\n",
    "\n",
    "The next factor we know well is that passengers in higher classes were more\n",
    "likely to survive.\n",
    "\n",
    "The problem we have at the moment is that the `class` column in this dataset is a mix of things:"
   ]
  },
  {
   "cell_type": "code",
   "execution_count": 13,
   "metadata": {},
   "outputs": [
    {
     "data": {
      "text/plain": [
       "3rd                 709\n",
       "victualling crew    431\n",
       "engineering crew    324\n",
       "1st                 324\n",
       "2nd                 284\n",
       "restaurant staff     69\n",
       "deck crew            66\n",
       "Name: class, dtype: int64"
      ]
     },
     "execution_count": 13,
     "metadata": {},
     "output_type": "execute_result"
    }
   ],
   "source": [
    "# Run this cell.\n",
    "titanic['class'].value_counts()"
   ]
  },
  {
   "cell_type": "markdown",
   "metadata": {},
   "source": [
    "The `class` column contains \"1st\", \"2nd\", \"3rd\" for some people, but it has job\n",
    "titles for others, such as \"deck crew\".\n",
    "\n",
    "Worse than that, some of the people in \"1st\" and \"2nd\" class were closer to\n",
    "being crew than passengers.  For example, there were [8\n",
    "musicians](https://en.wikipedia.org/wiki/Musicians_of_the_RMS_Titanic), who\n",
    "were all listed as \"2nd\" class passengers. There were [9 members of the Guarantee\n",
    "Group](https://en.wikipedia.org/wiki/Crew_of_the_RMS_Titanic#Guarantee_group)\n",
    "on board, whose job was to monitor the ship and fix any problems that arose on\n",
    "her maiden voyage.  They also have passenger classes listed as \"1st\" or \"2nd\".\n",
    "\n",
    "We would like to be able to classify the people (rows) in the dataset as one of the following:\n",
    "\n",
    "* Genuine First class passenger: \"1st\".\n",
    "* Genuine Second class passenger: \"2nd\".\n",
    "* Genuine Third class passenger: \"3rd\".\n",
    "* Musician: \"musician\".\n",
    "* Guarantee group: \"guarantee\".\n",
    "* Deck crew: \"deck\".\n",
    "* Engineering crew: \"engineering\".\n",
    "* Victualling crew or restaurant staff: \"catering\".\n",
    "\n",
    "That is, we need a new Series, maybe called `roles`, with one element per row\n",
    "in the dataset, that has one of these string labels, classifying the person in\n",
    "the corresponding row. For example, the first five people in the dataset are\n",
    "genuine Third Class passengers, so the first five elements in `roles` would be\n",
    "\"3rd\".\n",
    "\n",
    "Much of the information we need is in the `class` column of `titanic` - but we\n",
    "have more work to do, especially for the musicians and the guarantee group.\n",
    "\n",
    "One way of doing this task is to use a *recoding function*.  You saw one of\n",
    "these in action your \"stop and search\" homework.  In the homework, the function\n",
    "applied to a Series (and therefore, a column of a data frame), and, when used\n",
    "with `apply`, returned a Series.\n",
    "\n",
    "Here we need to use information from multiple columns in the person's row to\n",
    "classify them, so we need to take a different approach.   We need to `apply` a\n",
    "function to the whole data frame, to return our new Series `roles`.\n",
    "\n",
    "Here is an example of how to do this.  The function below is a *row recoding\n",
    "function*.  It accepts a *row* as its argument, and returns a value.\n",
    "\n",
    "In this case, the function returns \"adult\" for a row where the person's age was\n",
    "15 or more, and otherwise (for persons with age < 15) returns \"female child\"\n",
    "for \"female\" persons and \"male child\" otherwise."
   ]
  },
  {
   "cell_type": "code",
   "execution_count": 14,
   "metadata": {},
   "outputs": [],
   "source": [
    "# Run this cell to create example row classification function\n",
    "\n",
    "def classify_mf_child(row):\n",
    "    if row.loc['age'] >= 15:\n",
    "        return 'adult'\n",
    "    if row.loc['gender'] == 'female':\n",
    "        return 'female child'\n",
    "    return 'male child'"
   ]
  },
  {
   "cell_type": "markdown",
   "metadata": {},
   "source": [
    "To see the function in action, let's classify the first row of `titanic`:"
   ]
  },
  {
   "cell_type": "code",
   "execution_count": 15,
   "metadata": {},
   "outputs": [
    {
     "data": {
      "text/plain": [
       "'adult'"
      ]
     },
     "execution_count": 15,
     "metadata": {},
     "output_type": "execute_result"
    }
   ],
   "source": [
    "classify_mf_child(titanic.iloc[0])"
   ]
  },
  {
   "cell_type": "markdown",
   "metadata": {},
   "source": [
    "Classify the second row:"
   ]
  },
  {
   "cell_type": "code",
   "execution_count": 16,
   "metadata": {},
   "outputs": [
    {
     "data": {
      "text/plain": [
       "'male child'"
      ]
     },
     "execution_count": 16,
     "metadata": {},
     "output_type": "execute_result"
    }
   ],
   "source": [
    "classify_mf_child(titanic.iloc[1])"
   ]
  },
  {
   "cell_type": "markdown",
   "metadata": {},
   "source": [
    "Then we can `apply` this function to the whole data frame, to return a classification for each row in the data frame:"
   ]
  },
  {
   "cell_type": "code",
   "execution_count": 17,
   "metadata": {},
   "outputs": [
    {
     "data": {
      "text/plain": [
       "0         adult\n",
       "1    male child\n",
       "2         adult\n",
       "3         adult\n",
       "4         adult\n",
       "dtype: object"
      ]
     },
     "execution_count": 17,
     "metadata": {},
     "output_type": "execute_result"
    }
   ],
   "source": [
    "mf_child = titanic.apply(classify_mf_child, axis='columns')\n",
    "mf_child.head()"
   ]
  },
  {
   "cell_type": "markdown",
   "metadata": {},
   "source": [
    "Notice the `axis='columns'` keyword argument.  This tells Pandas to send the\n",
    "function one *row* at a time (working *across the columns*).  It's also\n",
    "possible to send the function one *column* at a time (working *across the\n",
    "rows*), and that it what it does by default, if you don't specify\n",
    "`axis='columns'`.\n",
    "\n",
    "Your job is to write a row classification function, like `classify_mf_child`\n",
    "above, that accepts a single row, and returns the correct string corresponding\n",
    "to that row, from the list above (from \"1st\", \"2nd\", \"3rd\", \"musician\", etc).\n",
    "\n",
    "In order to do this, investigate the `titanic` data set, and have a look at the\n",
    "links above that have more information on the musicians and the Guarantee\n",
    "Group.  See if you can find information online and in the dataset rows that is\n",
    "distinctive enough to identify the 8 musicians, 9 members of the Guarantee\n",
    "Group, and so on.\n",
    "\n",
    "*Hint 1* To test if a string contains another string, you can use the `in` operator like this:"
   ]
  },
  {
   "cell_type": "code",
   "execution_count": 18,
   "metadata": {},
   "outputs": [
    {
     "data": {
      "text/plain": [
       "True"
      ]
     },
     "execution_count": 18,
     "metadata": {},
     "output_type": "execute_result"
    }
   ],
   "source": [
    "a = 'Bah humbug'\n",
    "'humbug' in a"
   ]
  },
  {
   "cell_type": "markdown",
   "metadata": {},
   "source": [
    "*Hint 2* To test for a missing value, use `pd.isna()` like this:"
   ]
  },
  {
   "cell_type": "code",
   "execution_count": 19,
   "metadata": {},
   "outputs": [
    {
     "data": {
      "text/plain": [
       "True"
      ]
     },
     "execution_count": 19,
     "metadata": {},
     "output_type": "execute_result"
    }
   ],
   "source": [
    "pd.isna(np.nan)"
   ]
  },
  {
   "cell_type": "code",
   "execution_count": 20,
   "metadata": {},
   "outputs": [],
   "source": [
    "def classify_role(row):\n",
    "    # Your code here\n",
    "    if row.loc['class'] == 'deck crew':\n",
    "        return 'deck'\n",
    "    if row.loc['class'] == 'engineering crew':\n",
    "        return 'engineering'\n",
    "    if row.loc['class'] == 'victualling crew':\n",
    "        return 'catering'\n",
    "    if row.loc['class'] == 'restaurant staff':\n",
    "        return 'catering'\n",
    "    musicians = 'Brailey','Bricoux', 'Hartley', 'Hume', 'Krins', 'Woodward', 'Clarke, Mr. John Frederick Preston', 'Taylor, Mr. Percy Cornelius' \n",
    "    for m in musicians:\n",
    "        if row.loc['name'].startswith(m):\n",
    "            return 'musician'\n",
    "    guarantee = 'Chisholm', 'Frost', 'Parkes', 'Parr, Mr. William Henry Marsh', 'Andrews, Mr. Thomas', 'Campbell, Mr. William Henry', 'Cunningham, Mr. Alfred Fleming', 'Knight, Mr. Robert', 'Watson, Mr. Ennis Hastings' \n",
    "    for g in guarantee:\n",
    "        if row.loc['name'].startswith(g):\n",
    "            return 'guarantee'\n",
    "    if row.loc['class'] == '1st':\n",
    "        return '1st'\n",
    "    if row.loc['class'] == '2nd':\n",
    "        return '2nd'\n",
    "    if row.loc['class'] == '3rd':\n",
    "        return '3rd'\n"
   ]
  },
  {
   "cell_type": "markdown",
   "metadata": {},
   "source": [
    "The next cell tests if you are on the right track with your function:"
   ]
  },
  {
   "cell_type": "code",
   "execution_count": 21,
   "metadata": {},
   "outputs": [
    {
     "name": "stdout",
     "output_type": "stream",
     "text": [
      "3rd\n",
      "2nd\n",
      "catering\n",
      "engineering\n",
      "catering\n",
      "deck\n",
      "musician\n",
      "guarantee\n"
     ]
    }
   ],
   "source": [
    "print(classify_role(titanic.iloc[0]))  # Should show '3rd'\n",
    "print(classify_role(titanic.iloc[6]))  # Should show '2nd'\n",
    "print(classify_role(titanic.iloc[-1]))  # Should show 'catering'\n",
    "print(classify_role(titanic.iloc[-3]))  # Should show 'engineering'\n",
    "print(classify_role(titanic.iloc[-4]))  # Should show 'catering'\n",
    "print(classify_role(titanic.iloc[-5]))  # Should show 'deck'\n",
    "is_brailey = titanic['name'].str.startswith('Brailey')\n",
    "print(classify_role(titanic[is_brailey].iloc[0]))  # Should show 'musician'\n",
    "is_andrews = titanic['name'] == 'Andrews, Mr. Thomas'\n",
    "print(classify_role(titanic[is_andrews].iloc[0]))  # Should show 'guarantee'"
   ]
  },
  {
   "cell_type": "code",
   "execution_count": 22,
   "metadata": {},
   "outputs": [
    {
     "name": "stdout",
     "output_type": "stream",
     "text": [
      "~~~~~~~~~~~~~~~~~~~~~~~~~~~~~~~~~~~~~~~~~~~~~~~~~~~~~~~~~~~~~~~~~~~~~\n",
      "Running tests\n",
      "\n",
      "---------------------------------------------------------------------\n",
      "Test summary\n",
      "    Passed: 3\n",
      "    Failed: 0\n",
      "[ooooooooook] 100.0% passed\n",
      "\n"
     ]
    }
   ],
   "source": [
    "# This test runs the tests above, and some extra besides.\n",
    "_ = ok.grade('q_06_classify_role')"
   ]
  },
  {
   "cell_type": "markdown",
   "metadata": {},
   "source": [
    "`apply` your function to the `titanic` data frame to make a new Series, then\n",
    "use this Series to create a new data frame `role_by_survived_p` that is a\n",
    "cross-tabulation of the *proportion* of *male* passengers with each role, that\n",
    "survived or were lost. For example, `role_by_survived_p` will have a row\n",
    "corresponding to \"catering\", with two values, where one value will be the\n",
    "proportion of *male* catering staff that survived, and the other will be the\n",
    "proportion of male catering staff that were lost."
   ]
  },
  {
   "cell_type": "code",
   "execution_count": 23,
   "metadata": {},
   "outputs": [
    {
     "data": {
      "text/html": [
       "<div>\n",
       "<style scoped>\n",
       "    .dataframe tbody tr th:only-of-type {\n",
       "        vertical-align: middle;\n",
       "    }\n",
       "\n",
       "    .dataframe tbody tr th {\n",
       "        vertical-align: top;\n",
       "    }\n",
       "\n",
       "    .dataframe thead th {\n",
       "        text-align: right;\n",
       "    }\n",
       "</style>\n",
       "<table border=\"1\" class=\"dataframe\">\n",
       "  <thead>\n",
       "    <tr style=\"text-align: right;\">\n",
       "      <th>survived</th>\n",
       "      <th>no</th>\n",
       "      <th>yes</th>\n",
       "    </tr>\n",
       "    <tr>\n",
       "      <th>by_male_roles</th>\n",
       "      <th></th>\n",
       "      <th></th>\n",
       "    </tr>\n",
       "  </thead>\n",
       "  <tbody>\n",
       "    <tr>\n",
       "      <td>1st</td>\n",
       "      <td>0.649718</td>\n",
       "      <td>0.350282</td>\n",
       "    </tr>\n",
       "    <tr>\n",
       "      <td>2nd</td>\n",
       "      <td>0.853659</td>\n",
       "      <td>0.146341</td>\n",
       "    </tr>\n",
       "    <tr>\n",
       "      <td>3rd</td>\n",
       "      <td>0.847870</td>\n",
       "      <td>0.152130</td>\n",
       "    </tr>\n",
       "    <tr>\n",
       "      <td>catering</td>\n",
       "      <td>0.838574</td>\n",
       "      <td>0.161426</td>\n",
       "    </tr>\n",
       "    <tr>\n",
       "      <td>deck</td>\n",
       "      <td>0.348485</td>\n",
       "      <td>0.651515</td>\n",
       "    </tr>\n",
       "    <tr>\n",
       "      <td>engineering</td>\n",
       "      <td>0.780864</td>\n",
       "      <td>0.219136</td>\n",
       "    </tr>\n",
       "    <tr>\n",
       "      <td>guarantee</td>\n",
       "      <td>1.000000</td>\n",
       "      <td>0.000000</td>\n",
       "    </tr>\n",
       "    <tr>\n",
       "      <td>musician</td>\n",
       "      <td>1.000000</td>\n",
       "      <td>0.000000</td>\n",
       "    </tr>\n",
       "  </tbody>\n",
       "</table>\n",
       "</div>"
      ],
      "text/plain": [
       "survived             no       yes\n",
       "by_male_roles                    \n",
       "1st            0.649718  0.350282\n",
       "2nd            0.853659  0.146341\n",
       "3rd            0.847870  0.152130\n",
       "catering       0.838574  0.161426\n",
       "deck           0.348485  0.651515\n",
       "engineering    0.780864  0.219136\n",
       "guarantee      1.000000  0.000000\n",
       "musician       1.000000  0.000000"
      ]
     },
     "execution_count": 23,
     "metadata": {},
     "output_type": "execute_result"
    }
   ],
   "source": [
    "roles = titanic.apply(classify_role, axis = 'columns') \n",
    "titanic['roles'] = roles\n",
    "male = titanic['gender'] == 'male'\n",
    "by_male = titanic[male]\n",
    "role_by_survived_p = pd.crosstab(by_male['roles'], by_male['survived'], normalize = 'index', rownames=['by_male_roles'])\n",
    "role_by_survived_p"
   ]
  },
  {
   "cell_type": "markdown",
   "metadata": {},
   "source": [
    "## Done\n",
    "\n",
    "You're finished with the assignment!  Be sure to...\n",
    "\n",
    "- **run all the tests** (the next cell has a shortcut for that),\n",
    "- **Save and Checkpoint** from the \"File\" menu.\n",
    "- Finally, **restart** the kernel for this notebook, and **run all the cells**,\n",
    "  to check that the notebook still works without errors.  Use the\n",
    "  \"Kernel\" menu, and choose \"Restart and run all\".  If you find any\n",
    "  problems, go back and fix them, save the notebook, and restart / run\n",
    "  all again, before submitting.  When you do this, you make sure that\n",
    "  we, your humble markers, will be able to mark your notebook."
   ]
  },
  {
   "cell_type": "code",
   "execution_count": 24,
   "metadata": {},
   "outputs": [
    {
     "name": "stdout",
     "output_type": "stream",
     "text": [
      "~~~~~~~~~~~~~~~~~~~~~~~~~~~~~~~~~~~~~~~~~~~~~~~~~~~~~~~~~~~~~~~~~~~~~\n",
      "Running tests\n",
      "\n",
      "---------------------------------------------------------------------\n",
      "Test summary\n",
      "    Passed: 3\n",
      "    Failed: 0\n",
      "[ooooooooook] 100.0% passed\n",
      "\n",
      "~~~~~~~~~~~~~~~~~~~~~~~~~~~~~~~~~~~~~~~~~~~~~~~~~~~~~~~~~~~~~~~~~~~~~\n",
      "Running tests\n",
      "\n",
      "---------------------------------------------------------------------\n",
      "Test summary\n",
      "    Passed: 5\n",
      "    Failed: 0\n",
      "[ooooooooook] 100.0% passed\n",
      "\n",
      "~~~~~~~~~~~~~~~~~~~~~~~~~~~~~~~~~~~~~~~~~~~~~~~~~~~~~~~~~~~~~~~~~~~~~\n",
      "Running tests\n",
      "\n",
      "---------------------------------------------------------------------\n",
      "Test summary\n",
      "    Passed: 5\n",
      "    Failed: 0\n",
      "[ooooooooook] 100.0% passed\n",
      "\n",
      "~~~~~~~~~~~~~~~~~~~~~~~~~~~~~~~~~~~~~~~~~~~~~~~~~~~~~~~~~~~~~~~~~~~~~\n",
      "Running tests\n",
      "\n",
      "---------------------------------------------------------------------\n",
      "Test summary\n",
      "    Passed: 5\n",
      "    Failed: 0\n",
      "[ooooooooook] 100.0% passed\n",
      "\n",
      "~~~~~~~~~~~~~~~~~~~~~~~~~~~~~~~~~~~~~~~~~~~~~~~~~~~~~~~~~~~~~~~~~~~~~\n",
      "Running tests\n",
      "\n",
      "---------------------------------------------------------------------\n",
      "Test summary\n",
      "    Passed: 5\n",
      "    Failed: 0\n",
      "[ooooooooook] 100.0% passed\n",
      "\n",
      "~~~~~~~~~~~~~~~~~~~~~~~~~~~~~~~~~~~~~~~~~~~~~~~~~~~~~~~~~~~~~~~~~~~~~\n",
      "Running tests\n",
      "\n",
      "---------------------------------------------------------------------\n",
      "Test summary\n",
      "    Passed: 3\n",
      "    Failed: 0\n",
      "[ooooooooook] 100.0% passed\n",
      "\n"
     ]
    }
   ],
   "source": [
    "# For your convenience, you can run this cell to run all the tests at once!\n",
    "import os\n",
    "_ = [ok.grade(q[:-3]) for q in os.listdir(\"tests\") if q.startswith('q')]"
   ]
  }
 ],
 "metadata": {
  "jupytext": {
   "split_at_heading": true,
   "text_representation": {
    "extension": ".Rmd",
    "format_name": "rmarkdown",
    "format_version": "1.1",
    "jupytext_version": "1.2.4"
   }
  },
  "kernelspec": {
   "display_name": "Python 3",
   "language": "python",
   "name": "python3"
  },
  "language_info": {
   "codemirror_mode": {
    "name": "ipython",
    "version": 3
   },
   "file_extension": ".py",
   "mimetype": "text/x-python",
   "name": "python",
   "nbconvert_exporter": "python",
   "pygments_lexer": "ipython3",
   "version": "3.7.4"
  }
 },
 "nbformat": 4,
 "nbformat_minor": 2
}
